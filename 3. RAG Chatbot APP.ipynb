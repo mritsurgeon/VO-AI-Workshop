{
  "nbformat": 4,
  "nbformat_minor": 0,
  "metadata": {
    "colab": {
      "provenance": [],
      "authorship_tag": "ABX9TyME11kLCBkFhgOAByeNoy5n",
      "include_colab_link": true
    },
    "kernelspec": {
      "name": "python3",
      "display_name": "Python 3"
    },
    "language_info": {
      "name": "python"
    }
  },
  "cells": [
    {
      "cell_type": "markdown",
      "metadata": {
        "id": "view-in-github",
        "colab_type": "text"
      },
      "source": [
        "<a href=\"https://colab.research.google.com/github/mritsurgeon/VO-AI-Workshop/blob/main/3.%20RAG%20Chatbot%20APP.ipynb\" target=\"_parent\"><img src=\"https://colab.research.google.com/assets/colab-badge.svg\" alt=\"Open In Colab\"/></a>"
      ]
    },
    {
      "cell_type": "markdown",
      "source": [
        "# Exercise 3: RAG Chatbot Application (Simple Runner)\n",
        "\n",
        "This notebook sets up the environment and runs the Streamlit application for the RAG chatbot (`3. RAG Chatbot APP.py`).\n",
        "\n",
        "**Prerequisites:** The file `3. RAG Chatbot APP.py` must be accessible in the current environment or via a URL.\n",
        "\n",
        "1.  **Installs** necessary Python libraries.\n",
        "2.  **Sets up ngrok** to expose the Streamlit app publicly.\n",
        "3.  **Runs** the Streamlit app (`3. RAG Chatbot APP.py`).\n",
        "4.  **Provides** an ngrok URL to access the running app."
      ],
      "metadata": {
        "id": "sRXHSuQx7zQc"
      }
    },
    {
      "cell_type": "markdown",
      "source": [
        "## 1. Install Dependencies"
      ],
      "metadata": {
        "id": "w8Ssq3L_7yZ4"
      }
    },
    {
      "cell_type": "code",
      "source": [
        "pip install streamlit tika sentence-transformers chromadb langchain langchain_community langchain-text-splitters torch transformers accelerate bitsandbytes ngrok pyngrok"
      ],
      "metadata": {
        "id": "3GQ0nsPU7_G1"
      },
      "execution_count": null,
      "outputs": []
    },
    {
      "cell_type": "markdown",
      "source": [
        "## 2. Setup Ngrok\n",
        "\n",
        "Sign up for a free account at [ngrok.com](https://ngrok.com/) to get your authentication token. Replace `'YOUR_NGROK_AUTH_TOKEN'` below with your actual token."
      ],
      "metadata": {
        "id": "rDMfA47Y8MLT"
      }
    },
    {
      "cell_type": "code",
      "source": [
        "from pyngrok import ngrok\n",
        "import nest_asyncio\n",
        "\n",
        "if NGROK_AUTH_TOKEN == 'YOUR_NGROK_AUTH_TOKEN':\n",
        "  print(\"WARNING: Please replace 'YOUR_NGROK_AUTH_TOKEN' with your actual ngrok token!\")\n",
        "else:\n",
        "  ngrok.set_auth_token(NGROK_AUTH_TOKEN)\n",
        "  print(\"Ngrok token set.\")\n",
        "\n",
        "nest_asyncio.apply()"
      ],
      "metadata": {
        "id": "qxvWwLBI8T2H"
      },
      "execution_count": null,
      "outputs": []
    },
    {
      "cell_type": "markdown",
      "source": [
        "## 3. Run the Streamlit App\n",
        "\n",
        "This command starts the Streamlit application (`3. RAG Chatbot APP.py`) in the background.\n",
        "\n",
        "**Note:** Make sure `3. RAG Chatbot APP.py` is in the same directory as this notebook, or provide the correct path/URL to the script."
      ],
      "metadata": {
        "id": "sViypGea8geg"
      }
    },
    {
      "cell_type": "code",
      "source": [
        "!streamlit run 3. RAG Chatbot APP.py &>/dev/null&"
      ],
      "metadata": {
        "id": "GwiBYXqD8l8B"
      },
      "execution_count": null,
      "outputs": []
    },
    {
      "cell_type": "markdown",
      "source": [
        "## 4. Expose the App via Ngrok\n",
        "\n",
        "This cell creates a public URL using ngrok that tunnels to the Streamlit app running on port 8501. Click the URL generated below to access the application."
      ],
      "metadata": {
        "id": "DAWwei5e8v4a"
      }
    },
    {
      "cell_type": "code",
      "source": [
        "public_url = ngrok.connect(8501)\n",
        "print(f\"Streamlit App URL: {public_url}\")"
      ],
      "metadata": {
        "id": "Stz_aLh681qn"
      },
      "execution_count": null,
      "outputs": []
    },
    {
      "cell_type": "markdown",
      "source": [
        "## 5. Stop the Current Ngrok Tunnel (Important!)\n",
        "\n",
        "**Run the next cell to shut down the current ngrok tunnel.**\n",
        "\n",
        "The free tier of ngrok only allows one active tunnel at a time. To run the next exercise (or a different Streamlit app using ngrok), you **must** stop the current tunnel first. Failure to do so will likely result in errors when trying to start a new tunnel."
      ],
      "metadata": {
        "id": "ZkwLSfJ69PEx"
      }
    },
    {
      "cell_type": "code",
      "source": [
        "\n",
        "try:\n",
        "  # Get the active tunnels\n",
        "  tunnels = ngrok.get_tunnels()\n",
        "  if tunnels:\n",
        "    # Disconnect the first tunnel (usually the one we just created)\n",
        "    # More robust approach: find the tunnel matching public_url if stored\n",
        "    ngrok.disconnect(tunnels[0].public_url)\n",
        "    print(f\"Ngrok tunnel {tunnels[0].public_url} disconnected.\")\n",
        "  else:\n",
        "    print(\"No active ngrok tunnels found to disconnect.\")\n",
        "# Handle cases where the 'public_url' variable might not exist or other errors\n",
        "except NameError:\n",
        "  print(\"Variable 'public_url' not defined, attempting to disconnect all tunnels.\")\n",
        "  # Fallback: try to kill all tunnels if the specific URL isn't available\n",
        "  ngrok.kill()\n",
        "  print(\"Attempted to kill all ngrok tunnels.\")\n",
        "except Exception as e:\n",
        "  print(f\"An error occurred while disconnecting ngrok: {e}\")\n",
        "  print(\"Attempting to kill all ngrok tunnels as a fallback.\")\n",
        "  ngrok.kill() # Try a forceful shutdown on any error"
      ],
      "metadata": {
        "id": "tm-7aifA9T-T"
      },
      "execution_count": null,
      "outputs": []
    }
  ]
}